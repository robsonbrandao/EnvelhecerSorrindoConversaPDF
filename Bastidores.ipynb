{
 "cells": [
  {
   "cell_type": "markdown",
   "metadata": {},
   "source": [
    "<!-- Projeto Conversa de PDFs -->\n",
    "\n",
    "## <font color='blue'>IA Generativa e LLMs Para Processamento de Linguagem Natural</font>\n",
    "## <font color='blue'>Projeto 1</font>\n",
    "## <font color='blue'>Converse com Seus PDFs - Criando Assistente Pessoal de IA com LLM e VectorDB</font>"
   ]
  },
  {
   "cell_type": "markdown",
   "metadata": {},
   "source": [
    "## Instalando e Carregando Pacotes"
   ]
  },
  {
   "cell_type": "markdown",
   "metadata": {},
   "source": [
    "Para instalar todos os pacotes de uma vez, execute no terminal ou prompt de comando:\n",
    "\n",
    "pip install -r requirements.txt"
   ]
  },
  {
   "cell_type": "code",
   "execution_count": 1,
   "metadata": {},
   "outputs": [
    {
     "name": "stdout",
     "output_type": "stream",
     "text": [
      "Note: you may need to restart the kernel to use updated packages.\n"
     ]
    }
   ],
   "source": [
    "%pip install -q -r requirements.txt"
   ]
  },
  {
   "cell_type": "code",
   "execution_count": 2,
   "metadata": {},
   "outputs": [
    {
     "name": "stdout",
     "output_type": "stream",
     "text": [
      "Note: you may need to restart the kernel to use updated packages.\n"
     ]
    }
   ],
   "source": [
    "%pip install -q -U watermark"
   ]
  },
  {
   "cell_type": "code",
   "execution_count": 3,
   "metadata": {},
   "outputs": [],
   "source": [
    "# Bibliotecas utilizadas no projeto:\n",
    "# - os: Para manipulação de caminhos e variáveis de ambiente.\n",
    "# - openai: Para integração com a API da OpenAI.\n",
    "# - langchain: Para construção de cadeias de processamento de linguagem natural.\n",
    "# - chromadb: Para armazenamento e busca de vetores de embeddings.\n",
    "# - langchain_community.document_loaders: Para carregar documentos em PDF.\n",
    "# - langchain_community.embeddings: Para gerar embeddings de texto.\n",
    "# - langchain_community.vectorstores: Para criar e gerenciar o armazenamento de vetores.\n",
    "# - langchain_community.llms: Para integração com modelos de linguagem.\n",
    "# - langchain.chains.question_answering: Para criar cadeias de perguntas e respostas.\n",
    "# - warnings: Para ignorar avisos desnecessários.\n",
    "# - dotenv: Para carregar variáveis de ambiente de um arquivo .env."
   ]
  },
  {
   "cell_type": "code",
   "execution_count": 4,
   "metadata": {},
   "outputs": [],
   "source": [
    "# Imports\n",
    "\n",
    "import os\n",
    "import openai\n",
    "import langchain  \n",
    "import chromadb \n",
    "from langchain_community.document_loaders import PyPDFDirectoryLoader\n",
    "from langchain_community.embeddings import OpenAIEmbeddings\n",
    "from langchain_community.vectorstores import Chroma\n",
    "from langchain_community.llms import OpenAI\n",
    "from langchain.chains.question_answering import load_qa_chain\n",
    "import warnings\n",
    "warnings.filterwarnings('ignore')\n",
    "\n"
   ]
  },
  {
   "cell_type": "code",
   "execution_count": 5,
   "metadata": {},
   "outputs": [
    {
     "name": "stdout",
     "output_type": "stream",
     "text": [
      "Author: Robson Brandão - CRAI\n",
      "\n"
     ]
    }
   ],
   "source": [
    "%reload_ext watermark\n",
    "%watermark -a \"Robson Brandão - CRAI\""
   ]
  },
  {
   "cell_type": "markdown",
   "metadata": {},
   "source": [
    "## Extraindo Texto de Arquivos PDF"
   ]
  },
  {
   "cell_type": "code",
   "execution_count": null,
   "metadata": {},
   "outputs": [],
   "source": [
    "# Função para ler os arquivos em pdf\n",
    "def ins_read_pdf(directory_path):\n",
    "    \n",
    "    # Acessa a pasta com o arquivo pdf\n",
    "    file_loader = PyPDFDirectoryLoader(directory_path)\n",
    "    \n",
    "    # Lê o documento da pasta\n",
    "    documents = file_loader.load()\n",
    "    \n",
    "    return documents"
   ]
  },
  {
   "cell_type": "code",
   "execution_count": null,
   "metadata": {},
   "outputs": [],
   "source": [
    "# Executa a função\n",
    "ins_doc = ins_read_pdf('fo/')"
   ]
  },
  {
   "cell_type": "code",
   "execution_count": null,
   "metadata": {},
   "outputs": [
    {
     "data": {
      "text/plain": [
       "[Document(metadata={'producer': 'Microsoft® Word 2021', 'creator': 'Microsoft® Word 2021', 'creationdate': '2025-07-16T15:21:37-03:00', 'author': 'python-docx', 'moddate': '2025-07-16T15:21:37-03:00', 'source': 'fo\\\\Ciclos_1_6.pdf', 'total_pages': 15, 'page': 0, 'page_label': '1'}, page_content='Série: Ciclos da Matéria – O Corpo Segundo Confúcio \\nEsta obra apresenta uma abordagem integrada entre filosofia confucionista, estados físicos \\nda matéria e a prática médico-cirúrgica moderna. Dividida em seis episódios, a série propõe \\numa leitura vibracional e cíclica do corpo humano, do diagnóstico ao prognóstico, unindo \\nciência, natureza e pensamento ancestral.'),\n",
       " Document(metadata={'producer': 'Microsoft® Word 2021', 'creator': 'Microsoft® Word 2021', 'creationdate': '2025-07-16T15:21:37-03:00', 'author': 'python-docx', 'moddate': '2025-07-16T15:21:37-03:00', 'source': 'fo\\\\Ciclos_1_6.pdf', 'total_pages': 15, 'page': 1, 'page_label': '2'}, page_content='Episódio 1 – A Filosofia do Corpo Vivo \\nCapítulo 1 – O Tempo Segundo Confúcio \\nIntrodução ao conceito de tempo cíclico. Comparação entre o pensamento linear ocidental e \\na visão confucionista. Imagens do planeta em rotação, natureza em ciclos e a metáfora da \\nrespiração como unidade do tempo biológico. \\nCapítulo 2 – A Matéria Viva \\nApresentação dos quatro estados da matéria física: sólido, líquido, gasoso e plasma. \\nIntrodução ao quinto estado – condensado de Bose-Einstein – como limite teórico. \\nPrimeiras associações entre matéria e estruturas anatômicas do corpo. \\nCapítulo 3 – Corpo e Vibração \\nDemonstração das vibrações específicas de cada estado da matéria no corpo humano: ossos \\nvibram lentamente, líquidos em ciclos médios, gases de forma rápida, plasma em alta \\nfrequência. Aplicações clínicas e simbólicas dessas vibrações. \\nCapítulo 4 – Diagnóstico como Leitura do Passado \\nExploração da hipótese diagnóstica como processo de leitura histórica dos ciclos biológicos \\ndo paciente. Cenas clínicas e dramatizadas ilustram como o passado corporal influencia o \\npresente clínico. \\nCapítulo 5 – Propedêutica como Leitura do Presente \\nO corpo vivo em tempo real: medição de sinais vitais, exames complementares e padrões \\ncíclicos atuais. Análise das manifestações visíveis das vibrações da matéria no presente. \\nCapítulo 6 – Prognóstico e Planejamento Cirúrgico \\nPlanejar uma cirurgia é, também, ler o futuro possível do corpo. Discussão sobre como \\nrespeitar os ciclos e ritmos naturais do paciente pode potencializar a recuperação e reduzir \\nriscos cirúrgicos.'),\n",
       " Document(metadata={'producer': 'Microsoft® Word 2021', 'creator': 'Microsoft® Word 2021', 'creationdate': '2025-07-16T15:21:37-03:00', 'author': 'python-docx', 'moddate': '2025-07-16T15:21:37-03:00', 'source': 'fo\\\\Ciclos_1_6.pdf', 'total_pages': 15, 'page': 2, 'page_label': '3'}, page_content='Episódio 2 – Os Estados da Matéria na Vida \\nCapítulo 1 – Fundamentos da Matéria \\nDefinições físicas dos estados da matéria. Breve revisão científica com paralelos para o \\ncorpo humano. \\nCapítulo 2 – Sólido: A Estrutura que Sustenta \\nExploração do esqueleto, dentes, tecidos rígidos e suas vibrações lentas. Relação com tempo \\ne estabilidade. \\nCapítulo 3 – Líquido: O Solvente da Vida \\nÁgua corporal, sangue, linfa e secreções. Vibração média e ritmo circulatório como base da \\nhomeostase. \\nCapítulo 4 – Gasoso: O Elemento Vital Invisível \\nTrocas respiratórias, alvéolos pulmonares, gases no sangue. Vibração rápida e instabilidade \\nfuncional. \\nCapítulo 5 – Plasma: Energia em Movimento \\nDescargas elétricas, canais iônicos, funções neurológicas e mitocondriais. Vibração altíssima \\ne modulação da consciência. \\nCapítulo 6 – Bose-Einstein: O Limite Filosófico \\nDiscussão sobre o condensado como representação do inatingível. Reflexão sobre os limites \\nda vida e do corpo.'),\n",
       " Document(metadata={'producer': 'Microsoft® Word 2021', 'creator': 'Microsoft® Word 2021', 'creationdate': '2025-07-16T15:21:37-03:00', 'author': 'python-docx', 'moddate': '2025-07-16T15:21:37-03:00', 'source': 'fo\\\\Ciclos_1_6.pdf', 'total_pages': 15, 'page': 3, 'page_label': '4'}, page_content='Episódio 3 – Diagnóstico: A Memória do Corpo \\nCapítulo 1 – A Clínica como Leitura Histórica \\nCada sintoma tem um tempo. O corpo registra traumas, padrões e recorrências. \\nCapítulo 2 – Ciclos de Doença e Recuperação \\nExemplos de doenças cíclicas, crises periódicas e sua compreensão longitudinal. \\nCapítulo 3 – O Papel do Exame Anamnésico \\nComo reconstruir a linha do tempo do paciente. Técnicas de escuta ativa e leitura corporal. \\nCapítulo 4 – A Anatomia do Tempo \\nÓrgãos e tecidos que evidenciam o passado: cicatrizes, calcificações, hipertrofias. \\nCapítulo 5 – Técnicas Diagnósticas Cíclicas \\nEletrocardiograma, ciclos hormonais, mapas cronobiológicos como ferramentas do passado. \\nCapítulo 6 – Filosofia e Diagnóstico \\nO passado não é fixo – é interpretado. Confúcio e o valor da memória para o presente \\nmédico.'),\n",
       " Document(metadata={'producer': 'Microsoft® Word 2021', 'creator': 'Microsoft® Word 2021', 'creationdate': '2025-07-16T15:21:37-03:00', 'author': 'python-docx', 'moddate': '2025-07-16T15:21:37-03:00', 'source': 'fo\\\\Ciclos_1_6.pdf', 'total_pages': 15, 'page': 4, 'page_label': '5'}, page_content='Episódio 4 – Propedêutica: O Presente em Movimento \\nCapítulo 1 – Corpo em Ação \\nExame físico como retrato do agora. Observações clínicas como leitura em tempo real. \\nCapítulo 2 – Sinais Vitais como Ciclos \\nPressão, frequência cardíaca, respiração e temperatura em variação rítmica e cíclica. \\nCapítulo 3 – Exames Laboratoriais e Flutuações \\nEletrólitos, gases sanguíneos, marcadores metabólicos em estado dinâmico. \\nCapítulo 4 – Análises Funcionais \\nEletromiografia, EEG, testes de esforço: imagens da vibração funcional imediata. \\nCapítulo 5 – A Matéria em Fluxo \\nVisualização animada dos estados vibrando simultaneamente. Harmonia e descompensação. \\nCapítulo 6 – O Presente como Portal \\nReflexão confucionista: o agora é onde habitamos. Da observação à decisão médica.'),\n",
       " Document(metadata={'producer': 'Microsoft® Word 2021', 'creator': 'Microsoft® Word 2021', 'creationdate': '2025-07-16T15:21:37-03:00', 'author': 'python-docx', 'moddate': '2025-07-16T15:21:37-03:00', 'source': 'fo\\\\Ciclos_1_6.pdf', 'total_pages': 15, 'page': 5, 'page_label': '6'}, page_content='Episódio 5 – Prognóstico: O Corpo e o Futuro \\nCapítulo 1 – Prever é Projetar \\nComo a medicina projeta o futuro com base nas condições atuais e passadas. \\nCapítulo 2 – O Conceito de Adaptabilidade \\nPlasticidade celular, neurogênese, regeneração tecidual e capacidade de recuperação. \\nCapítulo 3 – Riscos e Potencialidades \\nFatores de risco clínico, parâmetros de complicação e indicadores de sucesso. \\nCapítulo 4 – Sincronia com os Ciclos Naturais \\nImportância de respeitar os ritmos circadianos e ambientais nas decisões médicas. \\nCapítulo 5 – Filosofia do Futuro \\nConfúcio e a ideia de que o amanhã é cultivado no agora. Ética médica e intencionalidade. \\nCapítulo 6 – Aplicações Cirúrgicas \\nCasos clínicos em que o prognóstico guiou o planejamento: quando operar, quando esperar.'),\n",
       " Document(metadata={'producer': 'Microsoft® Word 2021', 'creator': 'Microsoft® Word 2021', 'creationdate': '2025-07-16T15:21:37-03:00', 'author': 'python-docx', 'moddate': '2025-07-16T15:21:37-03:00', 'source': 'fo\\\\Ciclos_1_6.pdf', 'total_pages': 15, 'page': 6, 'page_label': '7'}, page_content='Episódio 6 – O Corpo Quântico: Entre o Plasma e o Impossível \\nCapítulo 1 – O Plasma e a Vida Elétrica \\nPotenciais de ação, sinapses, mitocôndrias e a comunicação invisível do corpo. \\nCapítulo 2 – Entropia e Ordem \\nTensão entre caos e organização nos sistemas biológicos. Homeostase como batalha \\nvibracional. \\nCapítulo 3 – Limites do Corpo \\nO que não sabemos: áreas do corpo ainda misteriosas. Consciência, intuição e limite \\nperceptivo. \\nCapítulo 4 – O Condensado como Símbolo \\nBose-Einstein como metáfora do absoluto. Corpo, mente e transcendência. \\nCapítulo 5 – O Corpo como Universo \\nComparações cosmológicas: átomos, órgãos, sistemas, galáxias. \\nCapítulo 6 – Final Filosófico \\nEncerramento reflexivo: somos matéria, mas também ritmo, memória e sentido.'),\n",
       " Document(metadata={'producer': 'Microsoft® Word 2021', 'creator': 'Microsoft® Word 2021', 'creationdate': '2025-07-16T15:21:37-03:00', 'author': 'python-docx', 'moddate': '2025-07-16T15:21:37-03:00', 'source': 'fo\\\\Ciclos_1_6.pdf', 'total_pages': 15, 'page': 7, 'page_label': '8'}, page_content='Episódio 2 – Os Estados da Matéria na Vida \\nCapítulo 1 – Fundamentos da Matéria \\nDefinições físicas dos estados da matéria. Breve revisão científica com paralelos para o \\ncorpo humano. \\nCapítulo 2 – Sólido: A Estrutura que Sustenta \\nExploração do esqueleto, dentes, tecidos rígidos e suas vibrações lentas. Relação com tempo \\ne estabilidade. \\nCapítulo 3 – Líquido: O Solvente da Vida \\nÁgua corporal, sangue, linfa e secreções. Vibração média e ritmo circulatório como base da \\nhomeostase. \\nCapítulo 4 – Gasoso: O Elemento Vital Invisível \\nTrocas respiratórias, alvéolos pulmonares, gases no sangue. Vibração rápida e instabilidade \\nfuncional. \\nCapítulo 5 – Plasma: Energia em Movimento \\nDescargas elétricas, canais iônicos, funções neurológicas e mitocondriais. Vibração altíssima \\ne modulação da consciência. \\nCapítulo 6 – Bose-Einstein: O Limite Filosófico \\nDiscussão sobre o condensado como representação do inatingível. Reflexão sobre os limites \\nda vida e do corpo.'),\n",
       " Document(metadata={'producer': 'Microsoft® Word 2021', 'creator': 'Microsoft® Word 2021', 'creationdate': '2025-07-16T15:21:37-03:00', 'author': 'python-docx', 'moddate': '2025-07-16T15:21:37-03:00', 'source': 'fo\\\\Ciclos_1_6.pdf', 'total_pages': 15, 'page': 8, 'page_label': '9'}, page_content='Episódio 3 – Diagnóstico: A Memória do Corpo \\nCapítulo 1 – A Clínica como Leitura Histórica \\nCada sintoma tem um tempo. O corpo registra traumas, padrões e recorrências. \\nCapítulo 2 – Ciclos de Doença e Recuperação \\nExemplos de doenças cíclicas, crises periódicas e sua compreensão longitudinal. \\nCapítulo 3 – O Papel do Exame Anamnésico \\nComo reconstruir a linha do tempo do paciente. Técnicas de escuta ativa e leitura corporal. \\nCapítulo 4 – A Anatomia do Tempo \\nÓrgãos e tecidos que evidenciam o passado: cicatrizes, calcificações, hipertrofias. \\nCapítulo 5 – Técnicas Diagnósticas Cíclicas \\nEletrocardiograma, ciclos hormonais, mapas cronobiológicos como ferramentas do passado. \\nCapítulo 6 – Filosofia e Diagnóstico \\nO passado não é fixo – é interpretado. Confúcio e o valor da memória para o presente \\nmédico.'),\n",
       " Document(metadata={'producer': 'Microsoft® Word 2021', 'creator': 'Microsoft® Word 2021', 'creationdate': '2025-07-16T15:21:37-03:00', 'author': 'python-docx', 'moddate': '2025-07-16T15:21:37-03:00', 'source': 'fo\\\\Ciclos_1_6.pdf', 'total_pages': 15, 'page': 9, 'page_label': '10'}, page_content='Episódio 4 – Propedêutica: O Presente em Movimento \\nCapítulo 1 – Corpo em Ação \\nExame físico como retrato do agora. Observações clínicas como leitura em tempo real. \\nCapítulo 2 – Sinais Vitais como Ciclos \\nPressão, frequência cardíaca, respiração e temperatura em variação rítmica e cíclica. \\nCapítulo 3 – Exames Laboratoriais e Flutuações \\nEletrólitos, gases sanguíneos, marcadores metabólicos em estado dinâmico. \\nCapítulo 4 – Análises Funcionais \\nEletromiografia, EEG, testes de esforço: imagens da vibração funcional imediata. \\nCapítulo 5 – A Matéria em Fluxo \\nVisualização animada dos estados vibrando simultaneamente. Harmonia e descompensação. \\nCapítulo 6 – O Presente como Portal \\nReflexão confucionista: o agora é onde habitamos. Da observação à decisão médica.'),\n",
       " Document(metadata={'producer': 'Microsoft® Word 2021', 'creator': 'Microsoft® Word 2021', 'creationdate': '2025-07-16T15:21:37-03:00', 'author': 'python-docx', 'moddate': '2025-07-16T15:21:37-03:00', 'source': 'fo\\\\Ciclos_1_6.pdf', 'total_pages': 15, 'page': 10, 'page_label': '11'}, page_content='Episódio 5 – Prognóstico: O Corpo e o Futuro \\nCapítulo 1 – Prever é Projetar \\nComo a medicina projeta o futuro com base nas condições atuais e passadas. \\nCapítulo 2 – O Conceito de Adaptabilidade \\nPlasticidade celular, neurogênese, regeneração tecidual e capacidade de recuperação. \\nCapítulo 3 – Riscos e Potencialidades \\nFatores de risco clínico, parâmetros de complicação e indicadores de sucesso. \\nCapítulo 4 – Sincronia com os Ciclos Naturais \\nImportância de respeitar os ritmos circadianos e ambientais nas decisões médicas. \\nCapítulo 5 – Filosofia do Futuro \\nConfúcio e a ideia de que o amanhã é cultivado no agora. Ética médica e intencionalidade. \\nCapítulo 6 – Aplicações Cirúrgicas \\nCasos clínicos em que o prognóstico guiou o planejamento: quando operar, quando esperar.'),\n",
       " Document(metadata={'producer': 'Microsoft® Word 2021', 'creator': 'Microsoft® Word 2021', 'creationdate': '2025-07-16T15:21:37-03:00', 'author': 'python-docx', 'moddate': '2025-07-16T15:21:37-03:00', 'source': 'fo\\\\Ciclos_1_6.pdf', 'total_pages': 15, 'page': 11, 'page_label': '12'}, page_content='Episódio 6 – O Corpo Quântico: Entre o Plasma e o Impossível \\nCapítulo 1 – O Plasma e a Vida Elétrica \\nPotenciais de ação, sinapses, mitocôndrias e a comunicação invisível do corpo. \\nCapítulo 2 – Entropia e Ordem \\nTensão entre caos e organização nos sistemas biológicos. Homeostase como batalha \\nvibracional. \\nCapítulo 3 – Limites do Corpo \\nO que não sabemos: áreas do corpo ainda misteriosas. Consciência, intuição e limite \\nperceptivo. \\nCapítulo 4 – O Condensado como Símbolo \\nBose-Einstein como metáfora do absoluto. Corpo, mente e transcendência. \\nCapítulo 5 – O Corpo como Universo \\nComparações cosmológicas: átomos, órgãos, sistemas, galáxias. \\nCapítulo 6 – Final Filosófico \\nEncerramento reflexivo: somos matéria, mas também ritmo, memória e sentido.'),\n",
       " Document(metadata={'producer': 'Microsoft® Word 2021', 'creator': 'Microsoft® Word 2021', 'creationdate': '2025-07-16T15:21:37-03:00', 'author': 'python-docx', 'moddate': '2025-07-16T15:21:37-03:00', 'source': 'fo\\\\Ciclos_1_6.pdf', 'total_pages': 15, 'page': 12, 'page_label': '13'}, page_content='Episódio 5 – Prognóstico: O Corpo e o Futuro \\nCapítulo 4 – Sincronia com os Ciclos Naturais \\nImportância de respeitar os ritmos circadianos e ambientais nas decisões médicas. \\nCapítulo 5 – Filosofia do Futuro \\nConfúcio e a ideia de que o amanhã é cultivado no agora. Ética médica e intencionalidade. \\nCapítulo 6 – Aplicações Cirúrgicas \\nCasos clínicos em que o prognóstico guiou o planejamento: quando operar, quando esperar.'),\n",
       " Document(metadata={'producer': 'Microsoft® Word 2021', 'creator': 'Microsoft® Word 2021', 'creationdate': '2025-07-16T15:21:37-03:00', 'author': 'python-docx', 'moddate': '2025-07-16T15:21:37-03:00', 'source': 'fo\\\\Ciclos_1_6.pdf', 'total_pages': 15, 'page': 13, 'page_label': '14'}, page_content='Episódio 6 – O Corpo Quântico: Entre o Plasma e o Impossível \\nCapítulo 1 – O Plasma e a Vida Elétrica \\nPotenciais de ação, sinapses, mitocôndrias e a comunicação invisível do corpo. \\nCapítulo 2 – Entropia e Ordem \\nTensão entre caos e organização nos sistemas biológicos. Homeostase como batalha \\nvibracional. \\nCapítulo 3 – Limites do Corpo \\nO que não sabemos: áreas do corpo ainda misteriosas. Consciência, intuição e limite \\nperceptivo. \\nCapítulo 4 – O Condensado como Símbolo \\nBose-Einstein como metáfora do absoluto. Corpo, mente e transcendência. \\nCapítulo 5 – O Corpo como Universo \\nComparações cosmológicas: átomos, órgãos, sistemas, galáxias. \\nCapítulo 6 – Final Filosófico \\nEncerramento reflexivo: somos matéria, mas também ritmo, memória e sentido.'),\n",
       " Document(metadata={'producer': 'Microsoft® Word 2021', 'creator': 'Microsoft® Word 2021', 'creationdate': '2025-07-16T15:21:37-03:00', 'author': 'python-docx', 'moddate': '2025-07-16T15:21:37-03:00', 'source': 'fo\\\\Ciclos_1_6.pdf', 'total_pages': 15, 'page': 14, 'page_label': '15'}, page_content=\"Conclusão da Série \\nA série 'Ciclos da Matéria – O Corpo Segundo Confúcio' propõe uma renovação no modo \\ncomo entendemos a prática médica. Ao integrar os estados da matéria com o raciocínio \\nclínico e os princípios filosóficos orientais, reconhecemos o corpo como uma entidade \\ncomplexa, vibrátil e em constante interação com os ciclos da natureza e do tempo. Do \\ndiagnóstico ao prognóstico, do átomo à consciência, somos parte de um fluxo eterno de \\ntransformação.\"),\n",
       " Document(metadata={'producer': 'Microsoft® Word 2021', 'creator': 'Microsoft® Word 2021', 'creationdate': '2025-07-16T08:51:35-03:00', 'author': 'LUIZ ANTONIO CORREA NOVELLI', 'moddate': '2025-07-16T08:51:35-03:00', 'source': 'fo\\\\Roteiro.pdf', 'total_pages': 10, 'page': 0, 'page_label': '1'}, page_content='Roteiro de Dramatização: Patologia Experimental e Técnica Cirúrgica \\nPersonagens: Professor idoso (80+ anos), Jovem Estudante. \\nDuração Total: ~30 minutos \\nLocal: Laboratório de Patologia \\n \\nCena 1 — Introdução à Patologia e Princípios Cirúrgicos (5 minutos) \\nAmbientação: \\nLaboratório iluminado por luzes frias, instrumentos cirúrgicos organizados sobre a \\nmesa. Uma tábua revestida com tecido (contendo uma bola de fita crepe \\nsimulando um tumor) está posicionada ao centro. O professor ajusta os óculos. \\n \\n(Imagem: Professor explicando com a tábua em destaque) \\nDiálogo: \\nProfessor: \\n\"Antes de praticarmos na perna de frango, precisamos dominar os princípios da'),\n",
       " Document(metadata={'producer': 'Microsoft® Word 2021', 'creator': 'Microsoft® Word 2021', 'creationdate': '2025-07-16T08:51:35-03:00', 'author': 'LUIZ ANTONIO CORREA NOVELLI', 'moddate': '2025-07-16T08:51:35-03:00', 'source': 'fo\\\\Roteiro.pdf', 'total_pages': 10, 'page': 1, 'page_label': '2'}, page_content='Patologia e Cirurgia. Hoje, treinaremos a empunhadura dos instrumentos e a \\ntécnica cirúrgica nesta tábua.\" \\nEstudante (impaciente): \\n\"Professor, podemos começar logo? Quero aprender as manobras!\" \\n \\n(Imagem: Estudante ansioso segurando bisturi) \\nProfessor (sério): \\n\"Corte sem planejamento é trauma! A Patologia exige hipóteses diagnósticas \\nantes da primeira incisão. Observe...\" \\nAção: \\n● O professor aponta para a tábua e lista os princípios biológicos do reparo: \\n1. Regeneração \\n2. Cicatrização \\n3. Proliferação celular \\n4. Resposta inflamatória \\n5. Remodelação tecidual'),\n",
       " Document(metadata={'producer': 'Microsoft® Word 2021', 'creator': 'Microsoft® Word 2021', 'creationdate': '2025-07-16T08:51:35-03:00', 'author': 'LUIZ ANTONIO CORREA NOVELLI', 'moddate': '2025-07-16T08:51:35-03:00', 'source': 'fo\\\\Roteiro.pdf', 'total_pages': 10, 'page': 2, 'page_label': '3'}, page_content='(Imagem: Close dos instrumentos cirúrgicos na bancada) \\n \\nCena 2 — Planejamento Cirúrgico e Diérese (10 minutos) \\nAmbientação: \\nProfessor segura o bisturi e demonstra como fixar a lâmina. A estudante observa \\natentamente. \\n \\n(Imagem: Professor ajustando a lâmina do bisturi) \\nDiálogo: \\nProfessor: \\n\"A diérese não é apenas cortar. É estratégia! Segure o bisturi como um lápis, com \\nfirmeza e suavidade.\" \\nEstudante: \\n\"Então, a angulação influencia?\" \\nProfessor: \\n\"Exato! Incline a 45 graus após pressionar a 90. Siga os planos anatômicos para \\nevitar danos.\" \\nAção: \\n● Estudante palpa a tábua e localiza a \"bola-tumor\". \\n● Professor demonstra a incisão em meia-lua.'),\n",
       " Document(metadata={'producer': 'Microsoft® Word 2021', 'creator': 'Microsoft® Word 2021', 'creationdate': '2025-07-16T08:51:35-03:00', 'author': 'LUIZ ANTONIO CORREA NOVELLI', 'moddate': '2025-07-16T08:51:35-03:00', 'source': 'fo\\\\Roteiro.pdf', 'total_pages': 10, 'page': 3, 'page_label': '4'}, page_content='(Imagem: Incisão sendo realizada na tábua) \\nEstudante (surpresa): \\n\"O bisturi desliza fácil quando a angulação está certa!\" \\nProfessor: \\n\"Isso é técnica atraumática. Agora, remova o \\'tumor\\'.\" \\n \\nCena 3 — Síntese e Discussão Teórica (5 minutos) \\nAmbientação: \\nEstudante pratica sutura na tábua sob supervisão. \\n \\n(Imagem: Professor ensinando sutura com agulha e fio) \\nDiálogo: \\nEstudante: \\n\"Unir as bordas parece simples, mas é complicado!\" \\nProfessor: \\n\"Suturar exige equilíbrio: nem tensa demais (isquemia), nem frouxa (deiscência). \\nFaça pontos firmes, começando pelo ângulo.\"'),\n",
       " Document(metadata={'producer': 'Microsoft® Word 2021', 'creator': 'Microsoft® Word 2021', 'creationdate': '2025-07-16T08:51:35-03:00', 'author': 'LUIZ ANTONIO CORREA NOVELLI', 'moddate': '2025-07-16T08:51:35-03:00', 'source': 'fo\\\\Roteiro.pdf', 'total_pages': 10, 'page': 4, 'page_label': '5'}, page_content='(Imagem: Estudante realizando sutura) \\nDiscussão Conceitual: \\n● Traumático vs. Atraumático \\n● Reversível vs. Irreversível \\n● Intensidade e Duração do Trauma \\n \\nCena 4 — Prática em Tecido Biológico: Perna de Frango (10 minutos) \\nAmbientação: \\nPerna de frango fresca sobre a mesa. Estudante segura bisturi com hesitação. \\n \\n(Imagem: Perna de frango e instrumentos cirúrgicos) \\nDiálogo: \\nEstudante (preocupado): \\n\"Professor, como encontro a fíbula?\"'),\n",
       " Document(metadata={'producer': 'Microsoft® Word 2021', 'creator': 'Microsoft® Word 2021', 'creationdate': '2025-07-16T08:51:35-03:00', 'author': 'LUIZ ANTONIO CORREA NOVELLI', 'moddate': '2025-07-16T08:51:35-03:00', 'source': 'fo\\\\Roteiro.pdf', 'total_pages': 10, 'page': 5, 'page_label': '6'}, page_content='Professor: \\n\"Palpe a articulação. Sinta a cápsula! Lembre-se da tábua: planeje antes de \\ncortar.\" \\nAção: \\n● Estudante aplica anestesia infiltrativa (corante verde) na cápsula articular. \\n \\n(Imagem: Injeção de anestésico na perna de frango) \\nEstudante (animado): \\n\"A cápsula ficou verde! Funcionou!\" \\nProfessor: \\n\"Agora, incisão em meia-lua. Acesso à fíbula!\" \\n \\n(Imagem: Incisão na perna de frango) \\nClímax: \\n● Estudante remove a cabeça da fíbula e sutura o tecido.'),\n",
       " Document(metadata={'producer': 'Microsoft® Word 2021', 'creator': 'Microsoft® Word 2021', 'creationdate': '2025-07-16T08:51:35-03:00', 'author': 'LUIZ ANTONIO CORREA NOVELLI', 'moddate': '2025-07-16T08:51:35-03:00', 'source': 'fo\\\\Roteiro.pdf', 'total_pages': 10, 'page': 6, 'page_label': '7'}, page_content='(Imagem: Cabeça da fíbula sendo removida) \\n \\nCena 5 — Encerramento e Reflexão (5 minutos) \\nAmbientação: \\nProfessor e estudante observam a sutura concluída. \\nDiálogo: \\nProfessor: \\n\"Cirurgia é ciência e arte. Respeite os tecidos, e eles se regenerarão.\" \\nEstudante: \\n\"Aprendi que cada corte tem propósito. Até a sutura importa!\"'),\n",
       " Document(metadata={'producer': 'Microsoft® Word 2021', 'creator': 'Microsoft® Word 2021', 'creationdate': '2025-07-16T08:51:35-03:00', 'author': 'LUIZ ANTONIO CORREA NOVELLI', 'moddate': '2025-07-16T08:51:35-03:00', 'source': 'fo\\\\Roteiro.pdf', 'total_pages': 10, 'page': 7, 'page_label': '8'}, page_content='(Imagem: Estudante orgulhosa com a perna de frango suturada) \\nEncerramento: \\n● Professor reforça a relação entre teoria e prática. \\n● Estudante reconhece a importância do planejamento cirúrgico. \\n \\nStoryboard – Aula de 15 minutos | Patologia \\nExperimental e Técnica Cirúrgica \\nCena 1 – Introdução Teórica e Simulação em Prancha (3 minutos) \\n \\nPersonagens: \\n- Professor idoso (experiente e calmo)'),\n",
       " Document(metadata={'producer': 'Microsoft® Word 2021', 'creator': 'Microsoft® Word 2021', 'creationdate': '2025-07-16T08:51:35-03:00', 'author': 'LUIZ ANTONIO CORREA NOVELLI', 'moddate': '2025-07-16T08:51:35-03:00', 'source': 'fo\\\\Roteiro.pdf', 'total_pages': 10, 'page': 8, 'page_label': '9'}, page_content='- Estudante iniciante (curioso e ansioso) \\n \\nCenário: \\nLaboratório de Patologia. Bancada com prancha de madeira revestida por tecido, \\nbolinha de fita crepe simulando tumor, bisturis e instrumentos organizados. \\n \\nNarrativa / Diálogo: \\n- Professor apresenta os princípios da regeneração, cicatrização, proliferação \\ncelular, inflamação e remodelação. \\n- Demonstra como manusear o bisturi corretamente (como lápis). \\n- Estudante impaciente deseja \"começar logo a cortar\". \\n- Professor reforça: \"Antes da incisão, vem o raciocínio clínico.\" \\n \\n \\n \\nCena 2 – Aplicação Prática: Ato Cirúrgico na Perna de Frango (9 \\nminutos) \\n \\nCenário: \\nNova bancada com perna fresca de frango. Instrumentos esterilizados. Seringa \\ncarpule com corante verde. \\n \\nNarrativa / Diálogo: \\n- Professor explica a anestesia infiltrativa (aplicação, biossegurança, uso da \\ncarpule inclinada). \\n- Estudante aplica anestesia corretamente: cápsula articular fica tingida de verde. \\n- Incisão em meia-lua → uso da tesoura para ampliar → identificação da cabeça da \\nfíbula → remoção. \\n- Professor destaca: “A técnica precisa ser atraumática, respeitando planos \\nanatômicos.” \\n- Estudante realiza sutura, começando pelo ângulo da incisão.'),\n",
       " Document(metadata={'producer': 'Microsoft® Word 2021', 'creator': 'Microsoft® Word 2021', 'creationdate': '2025-07-16T08:51:35-03:00', 'author': 'LUIZ ANTONIO CORREA NOVELLI', 'moddate': '2025-07-16T08:51:35-03:00', 'source': 'fo\\\\Roteiro.pdf', 'total_pages': 10, 'page': 9, 'page_label': '10'}, page_content='Cena 3 – Discussão Final e Reflexão Crítica (3 minutos) \\n \\nNarrativa / Diálogo: \\n- Professor aborda conceitos de: Trauma x Atrauma, Reversível x Irreversível, \\nTrauma Agudo x Crônico. \\n- Estudante comenta que “nem todo erro é irreversível”. \\n- Professor reforça a importância do planejamento para evitar traumas \\ndesnecessários. \\n- Demonstra a remoção correta de sutura. \\n \\nEncerramento: \\nProfessor conclui destacando como a teoria aprimora a técnica. \\nEstudante se mostra motivado para o próximo desafio prático.')]"
      ]
     },
     "execution_count": 8,
     "metadata": {},
     "output_type": "execute_result"
    }
   ],
   "source": [
    "ins_doc"
   ]
  },
  {
   "cell_type": "code",
   "execution_count": null,
   "metadata": {},
   "outputs": [
    {
     "data": {
      "text/plain": [
       "25"
      ]
     },
     "execution_count": 9,
     "metadata": {},
     "output_type": "execute_result"
    }
   ],
   "source": [
    "# Número de páginas\n",
    "len(ins_doc)"
   ]
  },
  {
   "cell_type": "markdown",
   "metadata": {},
   "source": [
    "## Definindo a API do LLM\n",
    "\n",
    "Crie sua API na OpenAI e coloque no arquivo .env na mesma pasta onde está este Jupyter Notebook.\n",
    "\n",
    "https://platform.openai.com/\n",
    "\n",
    "https://platform.openai.com/api-keys\n",
    "\n",
    "https://platform.openai.com/docs/quickstart?context=python\n",
    "<!-- Projeto Desenvolvido na Data Science Academy - www.datascienceacademy.com.br -->\n",
    "Veja mais detalhes no videobook do Capítulo 5 do curso."
   ]
  },
  {
   "cell_type": "code",
   "execution_count": 10,
   "metadata": {},
   "outputs": [
    {
     "data": {
      "text/plain": [
       "True"
      ]
     },
     "execution_count": 10,
     "metadata": {},
     "output_type": "execute_result"
    }
   ],
   "source": [
    "# Carregando as variáveis de ambiente definidas no arquivo .env\n",
    "from dotenv import load_dotenv\n",
    "load_dotenv()\n",
    "\n"
   ]
  },
  {
   "cell_type": "markdown",
   "metadata": {},
   "source": [
    "## Criando o Gerador de Embeddings"
   ]
  },
  {
   "cell_type": "code",
   "execution_count": 11,
   "metadata": {},
   "outputs": [],
   "source": [
    "# Criando o gerador de embeddings\n",
    "# embeddings são representações vetoriais de palavras ou frases que capturam seu significado semântico\n",
    "# e são usados para medir a similaridade entre textos.\n",
    "# Definindo a chave da API\n",
    "gerador_embeddings = OpenAIEmbeddings(api_key = os.environ['OPENAI_API_KEY'])"
   ]
  },
  {
   "cell_type": "markdown",
   "metadata": {},
   "source": [
    "O OpenAIEmbeddings é uma funcionalidade que permite obter representações vetoriais (embeddings) de texto, que são úteis para várias tarefas de processamento de linguagem natural, como comparação de semelhança de texto, agrupamento e classificação."
   ]
  },
  {
   "cell_type": "code",
   "execution_count": 12,
   "metadata": {},
   "outputs": [
    {
     "data": {
      "text/plain": [
       "langchain_community.embeddings.openai.OpenAIEmbeddings"
      ]
     },
     "execution_count": 12,
     "metadata": {},
     "output_type": "execute_result"
    }
   ],
   "source": [
    "type(gerador_embeddings)"
   ]
  },
  {
   "cell_type": "markdown",
   "metadata": {},
   "source": [
    "## Testando os Vetores de Embeddings"
   ]
  },
  {
   "cell_type": "code",
   "execution_count": 13,
   "metadata": {},
   "outputs": [],
   "source": [
    "# Testando o gerador de embeddings\n",
    "vetores = gerador_embeddings.embed_query('Qual habilidade mais importante na era da IA?')\n"
   ]
  },
  {
   "cell_type": "code",
   "execution_count": 14,
   "metadata": {},
   "outputs": [
    {
     "data": {
      "text/plain": [
       "list"
      ]
     },
     "execution_count": 14,
     "metadata": {},
     "output_type": "execute_result"
    }
   ],
   "source": [
    "type(vetores)"
   ]
  },
  {
   "cell_type": "code",
   "execution_count": 15,
   "metadata": {},
   "outputs": [
    {
     "data": {
      "text/plain": [
       "[-0.00252506310742038,\n",
       " 0.019988425955745487,\n",
       " -0.01234033456857347,\n",
       " -0.0014928358571401482,\n",
       " 0.021698311766916074,\n",
       " -0.0206379172488283,\n",
       " 0.0009568398347858864,\n",
       " -0.006074069234811833,\n",
       " -0.023673294810624815]"
      ]
     },
     "execution_count": 15,
     "metadata": {},
     "output_type": "execute_result"
    }
   ],
   "source": [
    "vetores[1:10]"
   ]
  },
  {
   "cell_type": "markdown",
   "metadata": {},
   "source": [
    "## Definindo o Vector Store\n",
    "\n",
    "https://www.trychroma.com/"
   ]
  },
  {
   "cell_type": "code",
   "execution_count": 16,
   "metadata": {},
   "outputs": [],
   "source": [
    "# Definindo o nome do índice\n",
    "index_name = 'dsa-index'"
   ]
  },
  {
   "cell_type": "code",
   "execution_count": null,
   "metadata": {},
   "outputs": [],
   "source": [
    "# Cria o vector store\n",
    "index = Chroma.from_documents(ins_doc, gerador_embeddings, collection_name = index_name)"
   ]
  },
  {
   "cell_type": "code",
   "execution_count": 18,
   "metadata": {},
   "outputs": [
    {
     "data": {
      "text/plain": [
       "langchain_community.vectorstores.chroma.Chroma"
      ]
     },
     "execution_count": 18,
     "metadata": {},
     "output_type": "execute_result"
    }
   ],
   "source": [
    "type(index)"
   ]
  },
  {
   "cell_type": "markdown",
   "metadata": {},
   "source": [
    "Veja mais detalhes sobre o Chroma no videobook do Capítulo 5 do curso."
   ]
  },
  {
   "cell_type": "code",
   "execution_count": null,
   "metadata": {},
   "outputs": [],
   "source": [
    "# Define a função de busca por similaridade\n",
    "def ins_busca_similaridade(query, k = 2):\n",
    "    \n",
    "    # Utiliza o método 'similarity_search' do objeto 'index' para buscar os 'k' resultados \n",
    "    # mais semelhantes à 'query'\n",
    "    matching_results = index.similarity_search(query, k)\n",
    "    \n",
    "    # Retorna os resultados correspondentes da busca de similaridade\n",
    "    return matching_results"
   ]
  },
  {
   "cell_type": "markdown",
   "metadata": {},
   "source": [
    "<!-- Projeto Desenvolvido na Data Science Academy - www.datascienceacademy.com.br -->\n",
    "## Criando a App do Assistente Pessoal com LangChain"
   ]
  },
  {
   "cell_type": "code",
   "execution_count": 20,
   "metadata": {},
   "outputs": [],
   "source": [
    "# Cria instância do LLM\n",
    "llm_dsa = OpenAI(openai_api_key = os.environ['OPENAI_API_KEY'], temperature = 0.3)"
   ]
  },
  {
   "cell_type": "markdown",
   "metadata": {},
   "source": [
    "https://python.langchain.com/docs/modules/chains/document/stuff\n",
    "\n",
    "https://js.langchain.com/docs/use_cases/question_answering/"
   ]
  },
  {
   "cell_type": "code",
   "execution_count": 21,
   "metadata": {},
   "outputs": [],
   "source": [
    "# Cria a chain para perguntas e respostas em documentos\n",
    "# stuff: carrega todo o documento na memória e faz a pergunta. stuff signifca qualuer coisa, ou seja,\n",
    "# não se importa com o tamanho do documento, apenas carrega tudo na memória\n",
    "# e faz a pergunta. Isso pode ser problemático para documentos muito grandes, pois pode causar\n",
    "# estouro de memória.\n",
    "# Isso é útil para documentos curtos ou quando a precisão não é crítica.\n",
    "# map_reduce: divide o documento em partes menores, faz a pergunta em cada parte e depois combina as respostas\n",
    "# Ref: https://python.langchain.com/docs/modules/chains/popular/qa\n",
    "chain = load_qa_chain(llm_dsa, chain_type = 'stuff')"
   ]
  },
  {
   "cell_type": "code",
   "execution_count": null,
   "metadata": {},
   "outputs": [],
   "source": [
    "# Define a função para obter resposta\n",
    "def obter_resposta(query):\n",
    "\n",
    "    # Chama a função 'ins_busca_similaridade' com a 'query' fornecida e armazena o resultado em 'doc_search'\n",
    "    doc_search = ins_busca_similaridade(query)\n",
    "        \n",
    "    # Utiliza o objeto 'chain' para executar a função run e processar a 'query' e os documentos encontrados, \n",
    "    # armazenando a resposta em 'response'\n",
    "    \n",
    "    response = chain.run(input_documents = doc_search, question = query)\n",
    "    \n",
    "    # Retorna a resposta obtida do processamento anterior\n",
    "    return response"
   ]
  },
  {
   "cell_type": "markdown",
   "metadata": {},
   "source": [
    "## Executando o Assistente de IA e Conversando com PDFs"
   ]
  },
  {
   "cell_type": "code",
   "execution_count": null,
   "metadata": {},
   "outputs": [],
   "source": [
    "# Pergunta para o arquivo pdf\n",
    "ins_prompt1 = \"como poderiamos pontuarm momentos de reflexão que avaliaem o aprendizado da técnica cirurgica\"\n"
   ]
  },
  {
   "cell_type": "code",
   "execution_count": null,
   "metadata": {},
   "outputs": [],
   "source": [
    "# Obtém a resposta\n",
    "resposta1 = obter_resposta(ins_prompt1)"
   ]
  },
  {
   "cell_type": "code",
   "execution_count": 25,
   "metadata": {},
   "outputs": [
    {
     "name": "stdout",
     "output_type": "stream",
     "text": [
      "\n",
      "1. O professor enfatiza a importância do raciocínio clínico antes de realizar qualquer incisão.\n",
      "2. O professor destaca a necessidade de uma técnica atraumática e respeito aos planos anatômicos.\n",
      "3. O estudante aplica corretamente a anestesia infiltrativa, demonstrando compreensão da técnica.\n",
      "4. O professor lista os princípios biológicos do reparo, reforçando a importância do conhecimento teórico antes da prática.\n",
      "5. O estudante realiza a sutura, demonstrando habilidade adquirida durante o treinamento.\n",
      "6. O professor avalia o desempenho do estudante e fornece feedback sobre possíveis melhorias na técnica cirúrgica.\n"
     ]
    }
   ],
   "source": [
    "print(resposta1)"
   ]
  },
  {
   "cell_type": "code",
   "execution_count": null,
   "metadata": {},
   "outputs": [],
   "source": [
    "# Pergunta para o arquivo pdf\n",
    "ins_prompt2 = \"É possível você dar esses momentos de reflexão com os conceitos de patologia geral?\""
   ]
  },
  {
   "cell_type": "code",
   "execution_count": null,
   "metadata": {},
   "outputs": [],
   "source": [
    "# Obtém a resposta\n",
    "resposta2 = obter_resposta(ins_prompt2)"
   ]
  },
  {
   "cell_type": "code",
   "execution_count": 28,
   "metadata": {},
   "outputs": [
    {
     "name": "stdout",
     "output_type": "stream",
     "text": [
      " Yes, the professor is discussing the principles of biological repair, which is a concept in general pathology. He is also discussing the difference between traumatic and atraumatic injuries, which is also a concept in general pathology.\n"
     ]
    }
   ],
   "source": [
    "print(resposta2)"
   ]
  },
  {
   "cell_type": "code",
   "execution_count": null,
   "metadata": {},
   "outputs": [],
   "source": [
    "# Pergunta para o arquivo pdf\n",
    "ins_prompt3 = \"Apenas com esses elementos, é possível fazer uma análise crítica do aprendizado?\""
   ]
  },
  {
   "cell_type": "code",
   "execution_count": null,
   "metadata": {},
   "outputs": [],
   "source": [
    "# Obtém a resposta\n",
    "resposta3 = obter_resposta(ins_prompt3)"
   ]
  },
  {
   "cell_type": "code",
   "execution_count": 31,
   "metadata": {},
   "outputs": [
    {
     "name": "stdout",
     "output_type": "stream",
     "text": [
      " Não, é necessário ter mais informações e contexto sobre a discussão e prática em questão para fazer uma análise crítica do aprendizado. Além disso, seria importante saber qual é o objetivo do aprendizado e se ele foi alcançado ou não.\n"
     ]
    }
   ],
   "source": [
    "print(resposta3)"
   ]
  },
  {
   "cell_type": "code",
   "execution_count": 32,
   "metadata": {},
   "outputs": [
    {
     "name": "stdout",
     "output_type": "stream",
     "text": [
      "Author: Robson Brandão - CRAI\n",
      "\n"
     ]
    }
   ],
   "source": [
    "%watermark -a \"Robson Brandão - CRAI\""
   ]
  },
  {
   "cell_type": "code",
   "execution_count": null,
   "metadata": {},
   "outputs": [],
   "source": [
    "# Pergunta para o arquivo pdf\n",
    "ins_prompt4 = \"É possivel fazer uma avaliação do aprendizado desse aluno com esses elementos ? Como ?\""
   ]
  },
  {
   "cell_type": "code",
   "execution_count": null,
   "metadata": {},
   "outputs": [],
   "source": [
    "# Obtém a resposta\n",
    "resposta4 = obter_resposta(ins_prompt3)"
   ]
  },
  {
   "cell_type": "code",
   "execution_count": 35,
   "metadata": {},
   "outputs": [
    {
     "name": "stdout",
     "output_type": "stream",
     "text": [
      " Não, não é possível fazer uma análise crítica do aprendizado apenas com esses elementos. É necessário ter mais informações sobre o conteúdo abordado, a dinâmica da aula, a participação dos alunos e outros fatores para realizar uma análise crítica adequada.\n"
     ]
    }
   ],
   "source": [
    "print(resposta4)"
   ]
  },
  {
   "cell_type": "code",
   "execution_count": null,
   "metadata": {},
   "outputs": [],
   "source": [
    "# Pergunta para o arquivo pdf\n",
    "ins_prompt5 = \"Qual o contexto e informações necessárias para fazer uma avaliação do aprendizado desse aluno com esses elementos ? Como ?\""
   ]
  },
  {
   "cell_type": "code",
   "execution_count": null,
   "metadata": {},
   "outputs": [],
   "source": [
    "# Obtém a resposta\n",
    "resposta5 = obter_resposta(ins_prompt3)"
   ]
  },
  {
   "cell_type": "code",
   "execution_count": 38,
   "metadata": {},
   "outputs": [
    {
     "name": "stdout",
     "output_type": "stream",
     "text": [
      " No, com esses elementos não é possível fazer uma análise crítica do aprendizado. A discussão conceitual e a prática em tecido biológico são apenas uma parte do processo de aprendizado e não fornecem informações suficientes para uma análise crítica completa. Seria necessário ter acesso a mais informações sobre o contexto, como por exemplo, o objetivo do aprendizado, o nível de conhecimento prévio do estudante, a metodologia utilizada, entre outros. \n"
     ]
    }
   ],
   "source": [
    "print(resposta5)"
   ]
  },
  {
   "cell_type": "code",
   "execution_count": 39,
   "metadata": {},
   "outputs": [],
   "source": [
    "#%watermark -v -m"
   ]
  },
  {
   "cell_type": "code",
   "execution_count": 40,
   "metadata": {},
   "outputs": [],
   "source": [
    "#%watermark --iversions"
   ]
  },
  {
   "cell_type": "markdown",
   "metadata": {},
   "source": [
    "# Fim"
   ]
  }
 ],
 "metadata": {
  "kernelspec": {
   "display_name": "Python 3",
   "language": "python",
   "name": "python3"
  },
  "language_info": {
   "codemirror_mode": {
    "name": "ipython",
    "version": 3
   },
   "file_extension": ".py",
   "mimetype": "text/x-python",
   "name": "python",
   "nbconvert_exporter": "python",
   "pygments_lexer": "ipython3",
   "version": "3.13.5"
  }
 },
 "nbformat": 4,
 "nbformat_minor": 2
}
